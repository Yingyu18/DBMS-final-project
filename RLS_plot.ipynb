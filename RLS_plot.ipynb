{
 "cells": [
  {
   "cell_type": "code",
   "execution_count": 10,
   "metadata": {},
   "outputs": [
    {
     "name": "stdout",
     "output_type": "stream",
     "text": [
      "Connection established\n",
      "Function created successfully\n",
      "Row-level security enabled and policy created successfully\n"
     ]
    }
   ],
   "source": [
    "import psycopg2\n",
    "\n",
    "# Database connection parameters: root_user\n",
    "conn_string = \"host='140.112.12.188' user='postgres' dbname='dbms_final' password='1234' port='5432'\"\n",
    "\n",
    "# Connect to the database\n",
    "conn = psycopg2.connect(conn_string)\n",
    "print(\"Connection established\")\n",
    "\n",
    "# Create a cursor object\n",
    "cursor = conn.cursor()\n",
    "# Create Index on id_number\n",
    "# try:\n",
    "#     cursor.execute(\"CREATE INDEX index_id_number ON Patient (id_number);\")\n",
    "#     conn.commit()\n",
    "# except psycopg2.Error as e:\n",
    "#     print(f\"Error : {e}\")\n",
    "#     conn.rollback()\n",
    "# Define the SQL for creating the function with logging\n",
    "create_function_sql = \"\"\"\n",
    "CREATE FUNCTION site_policy(row_site int8, curr_user text)\n",
    "RETURNS bool\n",
    "AS $$\n",
    "BEGIN\n",
    "    RETURN (\n",
    "        (SELECT Site_ID\n",
    "        FROM Doctor WHERE UserName = curr_user) \n",
    "        = row_site\n",
    "        );\n",
    "\n",
    "END;\n",
    "$$\n",
    "LANGUAGE plpgsql;\n",
    "\"\"\"\n",
    "# Define the SQL for enabling row-level security and creating the policy\n",
    "enable_rls_sql = \"\"\"\n",
    "ALTER TABLE patient\n",
    "ENABLE ROW LEVEL SECURITY;\n",
    "\n",
    "CREATE POLICY doctor_read\n",
    "ON Patient FOR SELECT\n",
    "USING (site_policy(Site_ID, current_user));\n",
    "\"\"\"\n",
    "\n",
    "# Execute the SQL commands\n",
    "try:\n",
    "    # Drop policy if it exists\n",
    "    cursor.execute(\"DROP POLICY IF EXISTS doctor_read ON Patient;\")\n",
    "    cursor.execute(\"DROP FUNCTION IF EXISTS site_policy(int8, text);\")\n",
    "    # Create the function\n",
    "    cursor.execute(create_function_sql)\n",
    "    print(\"Function created successfully\")\n",
    "    # Enable row-level security and create the policy\n",
    "    cursor.execute(enable_rls_sql)\n",
    "    conn.commit()\n",
    "    print(\"Row-level security enabled and policy created successfully\")\n",
    "    \"\"\"\n",
    "    cursor.execute(\"SELECT relrowsecurity, relforcerowsecurity FROM pg_catalog.pg_class WHERE relname = 'patient';\")\n",
    "    print(cursor.fetchall())\n",
    "    cursor.execute(\"SELECT * FROM pg_policies WHERE policyname = 'doctor_read' AND tablename = 'patient';\")\n",
    "    print(cursor.fetchall())\n",
    "    \n",
    "    # Set application user ID using custom configuration        \n",
    "    cursor.execute(\"SELECT set_config('app.current_user_id', '5', false);\")\n",
    "    \n",
    "    # Execute the select query\n",
    "    cursor.execute(\"SELECT * FROM patient WHERE ID_Number = '9666427225';\")\n",
    "    results = cursor.fetchall()\n",
    "    print(\"Query executed successfully, results:\")\n",
    "    print(results)\n",
    "    \"\"\"\n",
    "except Exception as e:\n",
    "    conn.rollback()\n",
    "    print(f\"An error occurred: {e}\")\n",
    "\n",
    "\n",
    "# Close the cursor and connection\n",
    "cursor.close()\n",
    "conn.close()"
   ]
  },
  {
   "cell_type": "code",
   "execution_count": 11,
   "metadata": {},
   "outputs": [
    {
     "name": "stdout",
     "output_type": "stream",
     "text": [
      "[('Seq Scan on patient  (cost=0.00..278072.00 rows=1 width=34)',), (\"  Filter: (((id_number)::text = '3769016772'::text) AND site_policy((site_id)::bigint, (CURRENT_USER)::text))\",), ('JIT:',), ('  Functions: 2',), ('  Options: Inlining false, Optimization false, Expressions true, Deforming true',)]\n"
     ]
    }
   ],
   "source": [
    "conn_string = \"host='140.112.12.188' user='lily543906' dbname='dbms_final' password='1234' port='5432'\"\n",
    "conn = psycopg2.connect(conn_string)\n",
    "cursor = conn.cursor()\n",
    "cursor.execute(\"EXPLAIN SELECT * FROM Patient WHERE ID_number='3769016772';\")\n",
    "print(cursor.fetchall())\n",
    "cursor.close()\n",
    "conn.close()"
   ]
  },
  {
   "cell_type": "code",
   "execution_count": 12,
   "metadata": {},
   "outputs": [
    {
     "name": "stdout",
     "output_type": "stream",
     "text": [
      "[(9, 'John Doe', '3463370605', 35, 0)]\n"
     ]
    }
   ],
   "source": [
    "import time\n",
    "# Doctor with site_ID 0\n",
    "conn_string = \"host='140.112.12.188' user='lily543906' dbname='dbms_final' password='1234' port='5432'\"\n",
    "\n",
    "# Connect to the database\n",
    "conn = psycopg2.connect(conn_string)\n",
    "#print(\"Connection established\")\n",
    "\n",
    "# Create a cursor object\n",
    "cursor = conn.cursor()\n",
    "Authorized = []\n",
    "for i in range(20):\n",
    "    start_time = time.perf_counter_ns()\n",
    "    cursor.execute(\"SELECT * FROM Patient WHERE ID_Number='3463370605';\")\n",
    "    end_time = time.perf_counter_ns()\n",
    "    Authorized.append((end_time-start_time)/10**3)\n",
    "print(cursor.fetchall())\n",
    "cursor.close()\n",
    "conn.close()"
   ]
  },
  {
   "cell_type": "code",
   "execution_count": 13,
   "metadata": {},
   "outputs": [
    {
     "name": "stdout",
     "output_type": "stream",
     "text": [
      "69354.11\n"
     ]
    }
   ],
   "source": [
    "avg_Authorized = sum(Authorized)/len(Authorized)\n",
    "print(avg_Authorized)"
   ]
  },
  {
   "cell_type": "code",
   "execution_count": 14,
   "metadata": {},
   "outputs": [],
   "source": [
    "# Another user with no permission\n",
    "conn_string = \"host='140.112.12.188' user='andychang' dbname='dbms_final' password='1234' port='5432'\"\n",
    "\n",
    "# Connect to the database\n",
    "conn = psycopg2.connect(conn_string)\n",
    "#print(\"Connection established\")\n",
    "\n",
    "# Create a cursor object\n",
    "cursor = conn.cursor()\n",
    "Unauthorized = []\n",
    "for i in range(20):\n",
    "    start_time = time.perf_counter_ns()\n",
    "    cursor.execute(\"SELECT * FROM Patient WHERE ID_number='3463370605';\")\n",
    "    end_time = time.perf_counter_ns()\n",
    "    Unauthorized.append((end_time-start_time)/10**3)\n",
    "cursor.close()\n",
    "conn.close()"
   ]
  },
  {
   "cell_type": "code",
   "execution_count": 15,
   "metadata": {},
   "outputs": [
    {
     "name": "stdout",
     "output_type": "stream",
     "text": [
      "67294.595\n"
     ]
    }
   ],
   "source": [
    "avg_Unauthorized = sum(Unauthorized)/len(Unauthorized)\n",
    "print(avg_Unauthorized)"
   ]
  },
  {
   "cell_type": "code",
   "execution_count": 16,
   "metadata": {},
   "outputs": [],
   "source": [
    "# Another user with no permission and ID isn't in dataset\n",
    "conn_string = \"host='140.112.12.188' user='andychang' dbname='dbms_final' password='1234' port='5432'\"\n",
    "\n",
    "# Connect to the database\n",
    "conn = psycopg2.connect(conn_string)\n",
    "#print(\"Connection established\")\n",
    "\n",
    "# Create a cursor object\n",
    "cursor = conn.cursor()\n",
    "Non_Existent = []\n",
    "for i in range(20):\n",
    "    start_time = time.perf_counter_ns()\n",
    "    cursor.execute(\"SELECT * FROM Patient WHERE ID_number='37690167';\")\n",
    "    end_time = time.perf_counter_ns()\n",
    "    Non_Existent.append((end_time-start_time)/10**3)\n",
    "cursor.close()\n",
    "conn.close()"
   ]
  },
  {
   "cell_type": "code",
   "execution_count": 17,
   "metadata": {},
   "outputs": [
    {
     "name": "stdout",
     "output_type": "stream",
     "text": [
      "43381.38\n"
     ]
    }
   ],
   "source": [
    "avg_Nonexist = sum(Non_Existent)/len(Non_Existent)\n",
    "print(avg_Nonexist)"
   ]
  },
  {
   "cell_type": "code",
   "execution_count": 18,
   "metadata": {},
   "outputs": [
    {
     "data": {
      "image/png": "[encoded data removed]",
      "text/plain": [
       "<Figure size 643.375x500 with 1 Axes>"
      ]
     },
     "metadata": {},
     "output_type": "display_data"
    }
   ],
   "source": [
    "import numpy as np\n",
    "import pandas as pd\n",
    "import seaborn as sns\n",
    "import matplotlib.pyplot as plt\n",
    "\n",
    "#print(len(Unauthorized))\n",
    "Authorized_arr = np.array(Authorized)\n",
    "Authorized_df = pd.DataFrame(Authorized_arr, columns=['Query_time(10^(-6)s)'])\n",
    "Unauthorized_arr = np.array(Unauthorized)\n",
    "Unauthorized_df = pd.DataFrame(Unauthorized_arr, columns=['Query_time(10^(-6)s)'])\n",
    "Non_Existent_arr = np.array(Non_Existent)\n",
    "Non_Existent_df = pd.DataFrame(Non_Existent_arr, columns=['Query_time(10^(-6)s)'])\n",
    "\n",
    "Authorized_df['Source'] = 'Authorized'\n",
    "Unauthorized_df['Source'] = 'Unauthorized'\n",
    "Non_Existent_df['Source'] = 'Non_Existent'\n",
    "\n",
    "combined_df = pd.concat([Authorized_df, Unauthorized_df, Non_Existent_df], ignore_index=True)\n",
    "\n",
    "sns.displot(data=combined_df, x='Query_time(10^(-6)s)', hue='Source', kind='kde')\n",
    "plt.show()"
   ]
  }
 ],
 "metadata": {
  "kernelspec": {
   "display_name": "DBMS-hw5",
   "language": "python",
   "name": "python3"
  },
  "language_info": {
   "codemirror_mode": {
    "name": "ipython",
    "version": 3
   },
   "file_extension": ".py",
   "mimetype": "text/x-python",
   "name": "python",
   "nbconvert_exporter": "python",
   "pygments_lexer": "ipython3",
   "version": "3.8.19"
  }
 },
 "nbformat": 4,
 "nbformat_minor": 2
}
