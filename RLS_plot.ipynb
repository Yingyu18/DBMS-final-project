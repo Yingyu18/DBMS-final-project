{
 "cells": [
  {
   "cell_type": "code",
   "execution_count": 61,
   "metadata": {},
   "outputs": [
    {
     "name": "stdout",
     "output_type": "stream",
     "text": [
      "Connection established\n",
      "Function created successfully\n",
      "Row-level security enabled and policy created successfully\n"
     ]
    }
   ],
   "source": [
    "import psycopg2\n",
    "\n",
    "# Database connection parameters: root_user\n",
    "conn_string = \"host='140.112.12.188' user='postgres' dbname='dbms_final' password='1234' port='5432'\"\n",
    "\n",
    "# Connect to the database\n",
    "conn = psycopg2.connect(conn_string)\n",
    "print(\"Connection established\")\n",
    "\n",
    "# Create a cursor object\n",
    "cursor = conn.cursor()\n",
    "# Create Index on id_number\n",
    "# try:\n",
    "#     cursor.execute(\"CREATE INDEX index_id_number ON Patient (id_number);\")\n",
    "#     conn.commit()\n",
    "# except psycopg2.Error as e:\n",
    "#     print(f\"Error : {e}\")\n",
    "#     conn.rollback()\n",
    "# Define the SQL for creating the function with logging\n",
    "create_function_sql = \"\"\"\n",
    "CREATE FUNCTION site_policy(row_site int8, curr_user text)\n",
    "RETURNS bool\n",
    "AS $$\n",
    "BEGIN\n",
    "    RETURN (\n",
    "        (SELECT Site_ID\n",
    "        FROM Doctor WHERE UserName = curr_user) \n",
    "        = row_site\n",
    "        );\n",
    "\n",
    "END;\n",
    "$$\n",
    "LANGUAGE plpgsql;\n",
    "\"\"\"\n",
    "# Define the SQL for enabling row-level security and creating the policy\n",
    "enable_rls_sql = \"\"\"\n",
    "ALTER TABLE patient\n",
    "ENABLE ROW LEVEL SECURITY;\n",
    "\n",
    "CREATE POLICY doctor_read\n",
    "ON Patient\n",
    "USING (site_policy(Site_ID, current_user));\n",
    "\"\"\"\n",
    "\n",
    "# Execute the SQL commands\n",
    "try:\n",
    "    # Drop policy if it exists\n",
    "    cursor.execute(\"DROP POLICY IF EXISTS doctor_read ON Patient;\")\n",
    "    cursor.execute(\"DROP FUNCTION IF EXISTS site_policy(int8, text);\")\n",
    "    # Create the function\n",
    "    cursor.execute(create_function_sql)\n",
    "    print(\"Function created successfully\")\n",
    "    # Enable row-level security and create the policy\n",
    "    cursor.execute(enable_rls_sql)\n",
    "    conn.commit()\n",
    "    print(\"Row-level security enabled and policy created successfully\")\n",
    "    \"\"\"\n",
    "    cursor.execute(\"SELECT relrowsecurity, relforcerowsecurity FROM pg_catalog.pg_class WHERE relname = 'patient';\")\n",
    "    print(cursor.fetchall())\n",
    "    cursor.execute(\"SELECT * FROM pg_policies WHERE policyname = 'doctor_read' AND tablename = 'patient';\")\n",
    "    print(cursor.fetchall())\n",
    "    \n",
    "    # Set application user ID using custom configuration        \n",
    "    cursor.execute(\"SELECT set_config('app.current_user_id', '5', false);\")\n",
    "    \n",
    "    # Execute the select query\n",
    "    cursor.execute(\"SELECT * FROM patient WHERE ID_Number = '9666427225';\")\n",
    "    results = cursor.fetchall()\n",
    "    print(\"Query executed successfully, results:\")\n",
    "    print(results)\n",
    "    \"\"\"\n",
    "except Exception as e:\n",
    "    conn.rollback()\n",
    "    print(f\"An error occurred: {e}\")\n",
    "\n",
    "\n",
    "# Close the cursor and connection\n",
    "cursor.close()\n",
    "conn.close()"
   ]
  },
  {
   "cell_type": "code",
   "execution_count": 99,
   "metadata": {},
   "outputs": [
    {
     "name": "stdout",
     "output_type": "stream",
     "text": [
      "('Index Scan using patient_id_number_key on patient  (cost=0.42..8.70 rows=1 width=34) (actual time=0.042..0.043 rows=0 loops=1)',)\n",
      "(\"  Index Cond: ((id_number)::text = '3769016772'::text)\",)\n",
      "('  Filter: site_policy((site_id)::bigint, (CURRENT_USER)::text)',)\n",
      "('Planning Time: 0.444 ms',)\n",
      "('Execution Time: 0.696 ms',)\n"
     ]
    }
   ],
   "source": [
    "# Unauthorized\n",
    "conn_string = \"host='140.112.12.188' user='andychang' dbname='dbms_final' password='1234' port='5432'\"\n",
    "conn = psycopg2.connect(conn_string)\n",
    "cursor = conn.cursor()\n",
    "cursor.execute(\"EXPLAIN ANALYZE SELECT * FROM Patient WHERE ID_number='3769016772';\")\n",
    "query_plan = cursor.fetchall()\n",
    "for row in query_plan:\n",
    "    print(row)\n",
    "cursor.close()\n",
    "conn.close()"
   ]
  },
  {
   "cell_type": "code",
   "execution_count": 102,
   "metadata": {},
   "outputs": [
    {
     "name": "stdout",
     "output_type": "stream",
     "text": [
      "('Index Scan using patient_id_number_key on patient  (cost=0.42..8.70 rows=1 width=34)',)\n",
      "(\"  Index Cond: ((id_number)::text = '12345678'::text)\",)\n",
      "('  Filter: site_policy((site_id)::bigint, (CURRENT_USER)::text)',)\n"
     ]
    }
   ],
   "source": [
    "# Nonexist\n",
    "conn_string = \"host='140.112.12.188' user='andychang' dbname='dbms_final' password='1234' port='5432'\"\n",
    "conn = psycopg2.connect(conn_string)\n",
    "cursor = conn.cursor()\n",
    "cursor.execute(\"EXPLAIN SELECT * FROM Patient WHERE ID_number='12345678';\")\n",
    "query_plan = cursor.fetchall()\n",
    "for row in query_plan:\n",
    "    print(row)\n",
    "cursor.close()\n",
    "conn.close()"
   ]
  },
  {
   "cell_type": "code",
   "execution_count": 68,
   "metadata": {},
   "outputs": [
    {
     "name": "stdout",
     "output_type": "stream",
     "text": [
      "[(9, 'John Doe', '3463370605', 35, 0)]\n"
     ]
    }
   ],
   "source": [
    "import time\n",
    "# Doctor with site_ID 0\n",
    "conn_string = \"host='140.112.12.188' user='lily543906' dbname='dbms_final' password='1234' port='5432'\"\n",
    "\n",
    "# Connect to the database\n",
    "conn = psycopg2.connect(conn_string)\n",
    "#print(\"Connection established\")\n",
    "\n",
    "# Create a cursor object\n",
    "cursor = conn.cursor()\n",
    "Authorized = []\n",
    "for i in range(20):\n",
    "    start_time = time.perf_counter_ns()\n",
    "    cursor.execute(\"SELECT * FROM Patient WHERE ID_Number='3463370605';\")\n",
    "    end_time = time.perf_counter_ns()\n",
    "    Authorized.append((end_time-start_time)/10**3)\n",
    "print(cursor.fetchall())\n",
    "cursor.close()\n",
    "conn.close()"
   ]
  },
  {
   "cell_type": "code",
   "execution_count": 69,
   "metadata": {},
   "outputs": [
    {
     "name": "stdout",
     "output_type": "stream",
     "text": [
      "36602.83\n"
     ]
    }
   ],
   "source": [
    "avg_Authorized = sum(Authorized)/len(Authorized)\n",
    "print(avg_Authorized)"
   ]
  },
  {
   "cell_type": "code",
   "execution_count": 70,
   "metadata": {},
   "outputs": [
    {
     "name": "stdout",
     "output_type": "stream",
     "text": [
      "[]\n"
     ]
    }
   ],
   "source": [
    "# Another user with no permission\n",
    "conn_string = \"host='140.112.12.188' user='andychang' dbname='dbms_final' password='1234' port='5432'\"\n",
    "\n",
    "conn = psycopg2.connect(conn_string)\n",
    "cursor = conn.cursor()\n",
    "Unauthorized = []\n",
    "for i in range(20):\n",
    "    start_time = time.perf_counter_ns()\n",
    "    cursor.execute(\"SELECT * FROM Patient WHERE ID_number='3463370605';\")\n",
    "    end_time = time.perf_counter_ns()\n",
    "    Unauthorized.append((end_time-start_time)/10**3)\n",
    "print(cursor.fetchall())\n",
    "cursor.close()\n",
    "conn.close()"
   ]
  },
  {
   "cell_type": "code",
   "execution_count": 71,
   "metadata": {},
   "outputs": [
    {
     "name": "stdout",
     "output_type": "stream",
     "text": [
      "23896.439999999995\n"
     ]
    }
   ],
   "source": [
    "avg_Unauthorized = sum(Unauthorized)/len(Unauthorized)\n",
    "print(avg_Unauthorized)"
   ]
  },
  {
   "cell_type": "code",
   "execution_count": 72,
   "metadata": {},
   "outputs": [
    {
     "name": "stdout",
     "output_type": "stream",
     "text": [
      "[]\n"
     ]
    }
   ],
   "source": [
    "# Another user with no permission and ID isn't in dataset\n",
    "conn_string = \"host='140.112.12.188' user='andychang' dbname='dbms_final' password='1234' port='5432'\"\n",
    "\n",
    "# Connect to the database\n",
    "conn = psycopg2.connect(conn_string)\n",
    "#print(\"Connection established\")\n",
    "\n",
    "# Create a cursor object\n",
    "cursor = conn.cursor()\n",
    "Non_Existent = []\n",
    "for i in range(20):\n",
    "    start_time = time.perf_counter_ns()\n",
    "    cursor.execute(\"SELECT * FROM Patient WHERE ID_number='37690167';\")\n",
    "    end_time = time.perf_counter_ns()\n",
    "    Non_Existent.append((end_time-start_time)/10**3)\n",
    "print(cursor.fetchall())\n",
    "cursor.close()\n",
    "conn.close()"
   ]
  },
  {
   "cell_type": "code",
   "execution_count": 73,
   "metadata": {},
   "outputs": [
    {
     "name": "stdout",
     "output_type": "stream",
     "text": [
      "9108.844999999998\n"
     ]
    }
   ],
   "source": [
    "avg_Nonexist = sum(Non_Existent)/len(Non_Existent)\n",
    "print(avg_Nonexist)"
   ]
  },
  {
   "cell_type": "code",
   "execution_count": 75,
   "metadata": {},
   "outputs": [
    {
     "data": {
      "image/png": "[encoded data removed]",
      "text/plain": [
       "<Figure size 643.375x500 with 1 Axes>"
      ]
     },
     "metadata": {},
     "output_type": "display_data"
    }
   ],
   "source": [
    "import numpy as np\n",
    "import pandas as pd\n",
    "import seaborn as sns\n",
    "import matplotlib.pyplot as plt\n",
    "\n",
    "#print(len(Unauthorized))\n",
    "Authorized_arr = np.array(Authorized)\n",
    "Authorized_df = pd.DataFrame(Authorized_arr, columns=['Query_time(10^(-6)s)'])\n",
    "Unauthorized_arr = np.array(Unauthorized)\n",
    "Unauthorized_df = pd.DataFrame(Unauthorized_arr, columns=['Query_time(10^(-6)s)'])\n",
    "Non_Existent_arr = np.array(Non_Existent)\n",
    "Non_Existent_df = pd.DataFrame(Non_Existent_arr, columns=['Query_time(10^(-6)s)'])\n",
    "\n",
    "Authorized_df['Source'] = 'Authorized'\n",
    "Unauthorized_df['Source'] = 'Unauthorized'\n",
    "Non_Existent_df['Source'] = 'Non_Existent'\n",
    "\n",
    "combined_df = pd.concat([Authorized_df, Unauthorized_df, Non_Existent_df], ignore_index=True)\n",
    "\n",
    "sns.displot(data=combined_df, x='Query_time(10^(-6)s)', hue='Source', kind='kde')\n",
    "plt.show()"
   ]
  },
  {
   "cell_type": "code",
   "execution_count": 59,
   "metadata": {},
   "outputs": [
    {
     "name": "stdout",
     "output_type": "stream",
     "text": [
      "('Update on patient  (cost=0.00..278072.00 rows=0 width=0) (actual time=86.404..86.404 rows=0 loops=1)',)\n",
      "('  ->  Seq Scan on patient  (cost=0.00..278072.00 rows=1 width=124) (actual time=63.482..63.545 rows=1 loops=1)',)\n",
      "(\"        Filter: (((id_number)::text = '3463370605'::text) AND site_policy((site_id)::bigint, (CURRENT_USER)::text))\",)\n",
      "('        Rows Removed by Filter: 999999',)\n",
      "('Planning Time: 0.419 ms',)\n",
      "('JIT:',)\n",
      "('  Functions: 5',)\n",
      "('  Options: Inlining false, Optimization false, Expressions true, Deforming true',)\n",
      "('  Timing: Generation 0.190 ms, Inlining 0.000 ms, Optimization 0.140 ms, Emission 2.478 ms, Total 2.807 ms',)\n",
      "('Execution Time: 96.840 ms',)\n"
     ]
    }
   ],
   "source": [
    "# Update\n",
    "conn_string = \"host='140.112.12.188' user='lily543906' dbname='dbms_final' password='1234' port='5432'\"\n",
    "conn = psycopg2.connect(conn_string)\n",
    "cursor = conn.cursor()\n",
    "cursor.execute(\"EXPLAIN ANALYZE UPDATE Patient SET name='Updated' WHERE ID_Number='3463370605';\")\n",
    "query_plan = cursor.fetchall()\n",
    "for row in query_plan:\n",
    "    print(row)\n",
    "cursor.close()\n",
    "conn.close()"
   ]
  },
  {
   "cell_type": "code",
   "execution_count": 58,
   "metadata": {},
   "outputs": [
    {
     "name": "stdout",
     "output_type": "stream",
     "text": [
      "('Update on patient  (cost=0.00..278072.00 rows=0 width=0) (actual time=58.322..58.322 rows=0 loops=1)',)\n",
      "('  ->  Seq Scan on patient  (cost=0.00..278072.00 rows=1 width=124) (actual time=58.321..58.321 rows=0 loops=1)',)\n",
      "(\"        Filter: (((id_number)::text = '3463370605'::text) AND site_policy((site_id)::bigint, (CURRENT_USER)::text))\",)\n",
      "('        Rows Removed by Filter: 1000000',)\n",
      "('Planning Time: 0.176 ms',)\n",
      "('JIT:',)\n",
      "('  Functions: 4',)\n",
      "('  Options: Inlining false, Optimization false, Expressions true, Deforming true',)\n",
      "('  Timing: Generation 0.135 ms, Inlining 0.000 ms, Optimization 0.099 ms, Emission 1.864 ms, Total 2.099 ms',)\n",
      "('Execution Time: 67.163 ms',)\n"
     ]
    }
   ],
   "source": [
    "# Update\n",
    "conn_string = \"host='140.112.12.188' user='andychang' dbname='dbms_final' password='1234' port='5432'\"\n",
    "conn = psycopg2.connect(conn_string)\n",
    "cursor = conn.cursor()\n",
    "cursor.execute(\"EXPLAIN ANALYZE UPDATE Patient SET name='Updated' WHERE ID_Number='3463370605';\")\n",
    "query_plan = cursor.fetchall()\n",
    "for row in query_plan:\n",
    "    print(row)\n",
    "cursor.close()\n",
    "conn.close()"
   ]
  },
  {
   "cell_type": "code",
   "execution_count": 60,
   "metadata": {},
   "outputs": [
    {
     "name": "stdout",
     "output_type": "stream",
     "text": [
      "('Update on patient  (cost=0.00..278072.00 rows=0 width=0) (actual time=63.282..63.282 rows=0 loops=1)',)\n",
      "('  ->  Seq Scan on patient  (cost=0.00..278072.00 rows=1 width=124) (actual time=63.281..63.281 rows=0 loops=1)',)\n",
      "(\"        Filter: (((id_number)::text = '3463370605'::text) AND site_policy((site_id)::bigint, (CURRENT_USER)::text))\",)\n",
      "('        Rows Removed by Filter: 1000000',)\n",
      "('Planning Time: 0.068 ms',)\n",
      "('JIT:',)\n",
      "('  Functions: 4',)\n",
      "('  Options: Inlining false, Optimization false, Expressions true, Deforming true',)\n",
      "('  Timing: Generation 0.172 ms, Inlining 0.000 ms, Optimization 0.110 ms, Emission 2.101 ms, Total 2.383 ms',)\n",
      "('Execution Time: 63.487 ms',)\n"
     ]
    }
   ],
   "source": [
    "# Update\n",
    "conn_string = \"host='140.112.12.188' user='andychang' dbname='dbms_final' password='1234' port='5432'\"\n",
    "conn = psycopg2.connect(conn_string)\n",
    "cursor = conn.cursor()\n",
    "cursor.execute(\"EXPLAIN (FORMAT JSON) UPDATE Patient SET name='Updated' WHERE ID_Number='12345';\")\n",
    "cursor.execute(\"EXPLAIN ANALYZE UPDATE Patient SET name='Updated' WHERE ID_Number='3463370605';\")\n",
    "query_plan = cursor.fetchall()\n",
    "for row in query_plan:\n",
    "    print(row)\n",
    "cursor.close()\n",
    "conn.close()"
   ]
  },
  {
   "cell_type": "code",
   "execution_count": 76,
   "metadata": {},
   "outputs": [
    {
     "name": "stdout",
     "output_type": "stream",
     "text": [
      "[(9, 'Updated', '3463370605', 35, 0)]\n"
     ]
    }
   ],
   "source": [
    "# Uddate\n",
    "conn_string = \"host='140.112.12.188' user='lily543906' dbname='dbms_final' password='1234' port='5432'\"\n",
    "\n",
    "conn = psycopg2.connect(conn_string)\n",
    "cursor = conn.cursor()\n",
    "Authorized = []\n",
    "for i in range(20):\n",
    "    start_time = time.perf_counter_ns()\n",
    "    cursor.execute(\"UPDATE Patient SET name='Updated'  WHERE ID_Number='3463370605';\")\n",
    "    end_time = time.perf_counter_ns()\n",
    "    Authorized.append((end_time-start_time)/10**3)\n",
    "conn.commit()\n",
    "cursor.execute(\"SELECT * FROM Patient WHERE ID_number='3463370605';\")\n",
    "print(cursor.fetchall())\n",
    "cursor.close()\n",
    "conn.close()"
   ]
  },
  {
   "cell_type": "code",
   "execution_count": 77,
   "metadata": {},
   "outputs": [
    {
     "name": "stdout",
     "output_type": "stream",
     "text": [
      "42550.30500000001\n"
     ]
    }
   ],
   "source": [
    "avg_Authorized = sum(Authorized)/len(Authorized)\n",
    "print(avg_Authorized)"
   ]
  },
  {
   "cell_type": "code",
   "execution_count": 78,
   "metadata": {},
   "outputs": [
    {
     "name": "stdout",
     "output_type": "stream",
     "text": [
      "[]\n"
     ]
    }
   ],
   "source": [
    "conn_string = \"host='140.112.12.188' user='andychang' dbname='dbms_final' password='1234' port='5432'\"\n",
    "\n",
    "conn = psycopg2.connect(conn_string)\n",
    "cursor = conn.cursor()\n",
    "Unauthorized = []\n",
    "for i in range(20):\n",
    "    start_time = time.perf_counter_ns()\n",
    "    cursor.execute(\"UPDATE Patient SET name='Updated'  WHERE ID_Number='3463370605';\")\n",
    "    end_time = time.perf_counter_ns()\n",
    "    Unauthorized.append((end_time-start_time)/10**3)\n",
    "conn.commit()\n",
    "cursor.execute(\"SELECT * FROM Patient WHERE ID_number='3463370605';\")\n",
    "print(cursor.fetchall())\n",
    "cursor.close()\n",
    "conn.close()"
   ]
  },
  {
   "cell_type": "code",
   "execution_count": 79,
   "metadata": {},
   "outputs": [
    {
     "name": "stdout",
     "output_type": "stream",
     "text": [
      "23962.144999999997\n"
     ]
    }
   ],
   "source": [
    "avg_Unauthorized = sum(Unauthorized)/len(Unauthorized)\n",
    "print(avg_Unauthorized)"
   ]
  },
  {
   "cell_type": "code",
   "execution_count": 80,
   "metadata": {},
   "outputs": [
    {
     "name": "stdout",
     "output_type": "stream",
     "text": [
      "[]\n"
     ]
    }
   ],
   "source": [
    "conn_string = \"host='140.112.12.188' user='andychang' dbname='dbms_final' password='1234' port='5432'\"\n",
    "\n",
    "conn = psycopg2.connect(conn_string)\n",
    "cursor = conn.cursor()\n",
    "Non_Existent = []\n",
    "for i in range(20):\n",
    "    start_time = time.perf_counter_ns()\n",
    "    cursor.execute(\"UPDATE Patient SET name='Updated' WHERE ID_Number='12345';\")\n",
    "    end_time = time.perf_counter_ns()\n",
    "    Non_Existent.append((end_time-start_time)/10**3)\n",
    "conn.commit()\n",
    "cursor.execute(\"SELECT * FROM Patient WHERE ID_number='12345';\")\n",
    "print(cursor.fetchall())\n",
    "cursor.close()\n",
    "conn.close()"
   ]
  },
  {
   "cell_type": "code",
   "execution_count": 81,
   "metadata": {},
   "outputs": [
    {
     "name": "stdout",
     "output_type": "stream",
     "text": [
      "11230.100000000002\n"
     ]
    }
   ],
   "source": [
    "avg_Nonexist = sum(Non_Existent)/len(Non_Existent)\n",
    "print(avg_Nonexist)"
   ]
  },
  {
   "cell_type": "code",
   "execution_count": 82,
   "metadata": {},
   "outputs": [
    {
     "data": {
      "image/png": "[encoded data removed]",
      "text/plain": [
       "<Figure size 643.375x500 with 1 Axes>"
      ]
     },
     "metadata": {},
     "output_type": "display_data"
    }
   ],
   "source": [
    "Authorized_arr = np.array(Authorized)\n",
    "Authorized_df = pd.DataFrame(Authorized_arr, columns=['Query_time(10^(-6)s)'])\n",
    "Unauthorized_arr = np.array(Unauthorized)\n",
    "Unauthorized_df = pd.DataFrame(Unauthorized_arr, columns=['Query_time(10^(-6)s)'])\n",
    "Non_Existent_arr = np.array(Non_Existent)\n",
    "Non_Existent_df = pd.DataFrame(Non_Existent_arr, columns=['Query_time(10^(-6)s)'])\n",
    "\n",
    "Authorized_df['Source'] = 'Authorized'\n",
    "Unauthorized_df['Source'] = 'Unauthorized'\n",
    "Non_Existent_df['Source'] = 'Non_Existent'\n",
    "\n",
    "combined_df = pd.concat([Authorized_df, Unauthorized_df, Non_Existent_df], ignore_index=True)\n",
    "\n",
    "sns.displot(data=combined_df, x='Query_time(10^(-6)s)', hue='Source', kind='kde')\n",
    "plt.show()"
   ]
  },
  {
   "cell_type": "code",
   "execution_count": 97,
   "metadata": {},
   "outputs": [
    {
     "ename": "UniqueViolation",
     "evalue": "duplicate key value violates unique constraint \"patient_pkey\"\n",
     "output_type": "error",
     "traceback": [
      "\u001b[1;31m---------------------------------------------------------------------------\u001b[0m",
      "\u001b[1;31mUniqueViolation\u001b[0m                           Traceback (most recent call last)",
      "Cell \u001b[1;32mIn[97], line 13\u001b[0m\n\u001b[0;32m     11\u001b[0m \u001b[38;5;28;01mfor\u001b[39;00m i \u001b[38;5;129;01min\u001b[39;00m \u001b[38;5;28mrange\u001b[39m(\u001b[38;5;241m20\u001b[39m):\n\u001b[0;32m     12\u001b[0m     start_time \u001b[38;5;241m=\u001b[39m time\u001b[38;5;241m.\u001b[39mperf_counter_ns()\n\u001b[1;32m---> 13\u001b[0m     \u001b[43mcursor\u001b[49m\u001b[38;5;241;43m.\u001b[39;49m\u001b[43mexecute\u001b[49m\u001b[43m(\u001b[49m\u001b[38;5;124;43m\"\u001b[39;49m\u001b[38;5;124;43mINSERT INTO Patient VALUES (\u001b[39;49m\u001b[38;5;124;43m'\u001b[39;49m\u001b[38;5;124;43m1000002\u001b[39;49m\u001b[38;5;124;43m'\u001b[39;49m\u001b[38;5;124;43m, \u001b[39;49m\u001b[38;5;124;43m'\u001b[39;49m\u001b[38;5;124;43mInsert_test\u001b[39;49m\u001b[38;5;124;43m'\u001b[39;49m\u001b[38;5;124;43m, \u001b[39;49m\u001b[38;5;124;43m'\u001b[39;49m\u001b[38;5;124;43m123456789\u001b[39;49m\u001b[38;5;124;43m'\u001b[39;49m\u001b[38;5;124;43m, \u001b[39;49m\u001b[38;5;124;43m'\u001b[39;49m\u001b[38;5;124;43m20\u001b[39;49m\u001b[38;5;124;43m'\u001b[39;49m\u001b[38;5;124;43m, \u001b[39;49m\u001b[38;5;124;43m'\u001b[39;49m\u001b[38;5;124;43m0\u001b[39;49m\u001b[38;5;124;43m'\u001b[39;49m\u001b[38;5;124;43m);\u001b[39;49m\u001b[38;5;124;43m\"\u001b[39;49m\u001b[43m)\u001b[49m\n\u001b[0;32m     14\u001b[0m     end_time \u001b[38;5;241m=\u001b[39m time\u001b[38;5;241m.\u001b[39mperf_counter_ns()\n\u001b[0;32m     15\u001b[0m     Authorized\u001b[38;5;241m.\u001b[39mappend((end_time\u001b[38;5;241m-\u001b[39mstart_time)\u001b[38;5;241m/\u001b[39m\u001b[38;5;241m10\u001b[39m\u001b[38;5;241m*\u001b[39m\u001b[38;5;241m*\u001b[39m\u001b[38;5;241m3\u001b[39m)\n",
      "\u001b[1;31mUniqueViolation\u001b[0m: duplicate key value violates unique constraint \"patient_pkey\"\n"
     ]
    }
   ],
   "source": [
    "# Insert (Debugging)\n",
    "conn_string = \"host='140.112.12.188' user='lily543906' dbname='dbms_final' password='1234' port='5432'\"\n",
    "\n",
    "conn = psycopg2.connect(conn_string)\n",
    "#print(\"Connection established\")\n",
    "\n",
    "cursor = conn.cursor()\n",
    "Authorized = []\n",
    "for i in range(20):\n",
    "    start_time = time.perf_counter_ns()\n",
    "    cursor.execute(\"INSERT INTO Patient VALUES ('1000002', 'Insert_test', '123456789', '20', '0');\")\n",
    "    end_time = time.perf_counter_ns()\n",
    "    Authorized.append((end_time-start_time)/10**3)\n",
    "conn.commit()\n",
    "cursor.execute(\"SELECT * FROM Patient WHERE ID_number='123456789';\")\n",
    "print(cursor.fetchall())\n",
    "cursor.close()\n",
    "conn.close()"
   ]
  },
  {
   "cell_type": "code",
   "execution_count": null,
   "metadata": {},
   "outputs": [],
   "source": [
    "avg_Authorized = sum(Authorized)/len(Authorized)\n",
    "print(avg_Authorized)"
   ]
  }
 ],
 "metadata": {
  "kernelspec": {
   "display_name": "DBMS-hw5",
   "language": "python",
   "name": "python3"
  },
  "language_info": {
   "codemirror_mode": {
    "name": "ipython",
    "version": 3
   },
   "file_extension": ".py",
   "mimetype": "text/x-python",
   "name": "python",
   "nbconvert_exporter": "python",
   "pygments_lexer": "ipython3",
   "version": "3.8.19"
  }
 },
 "nbformat": 4,
 "nbformat_minor": 2
}
