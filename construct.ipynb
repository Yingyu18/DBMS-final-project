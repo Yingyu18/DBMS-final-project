{
 "cells": [
  {
   "cell_type": "markdown",
   "metadata": {},
   "source": [
    "#### 1. Connect to DB"
   ]
  },
  {
   "cell_type": "code",
   "execution_count": 13,
   "metadata": {},
   "outputs": [
    {
     "name": "stdout",
     "output_type": "stream",
     "text": [
      "Connection established\n"
     ]
    }
   ],
   "source": [
    "import psycopg2\n",
    "\n",
    "host = \"140.112.12.188\"\n",
    "dbname = \"dbms_final\"\n",
    "user = \"andychang\"\n",
    "password = \"1234\"\n",
    "#sslmode = \"allow\"\n",
    "\n",
    "#conn_string = \"host='140.112.12.188' user='andychang' dbname='dbms_final' password='1234' port='5432'\"\n",
    "# 以 super user 身份登入\n",
    "conn_string = \"host='140.112.12.188' user='postgres' dbname='dbms_final' password='1234' port='5432'\"\n",
    "conn = psycopg2.connect(conn_string)\n",
    "print(\"Connection established\")"
   ]
  },
  {
   "cell_type": "markdown",
   "metadata": {},
   "source": [
    "\n",
    "##### 2. Create new role 'role1'"
   ]
  },
  {
   "cell_type": "code",
   "execution_count": 14,
   "metadata": {},
   "outputs": [],
   "source": [
    "cur = conn.cursor()\n",
    "try: \n",
    "    cur.execute(\"CREATE ROLE role1;\")\n",
    "    cur.execute(\"SELECT rolname FROM pg_roles;\")\n",
    "\n",
    "\n",
    "except psycopg2.Error as e:\n",
    "    print(f\"Error : {e}\")\n",
    "cur.close()"
   ]
  },
  {
   "cell_type": "markdown",
   "metadata": {},
   "source": [
    "增加 index 以確保 Qury Optimizer 先執行 user filter 再執行 RLS policy "
   ]
  },
  {
   "cell_type": "code",
   "execution_count": 15,
   "metadata": {},
   "outputs": [
    {
     "name": "stdout",
     "output_type": "stream",
     "text": [
      "Error : cursor already closed\n"
     ]
    }
   ],
   "source": [
    "try:\n",
    "    cur.execute(\"CREATE INDEX index_user_name ON RLS_test (id_number);\")\n",
    "    conn.commit()\n",
    "except psycopg2.Error as e:\n",
    "    print(f\"Error : {e}\")\n",
    "    conn.rollback()"
   ]
  },
  {
   "cell_type": "markdown",
   "metadata": {},
   "source": [
    "##### 3. Create Patient Table and Insert Data "
   ]
  },
  {
   "cell_type": "code",
   "execution_count": 17,
   "metadata": {},
   "outputs": [
    {
     "name": "stdout",
     "output_type": "stream",
     "text": [
      "[]\n",
      "Successfully inserted 1000000 records into the Patient table using COPY command.\n",
      "Successfully inserted 20000 records into the Doctor table using COPY command.\n"
     ]
    }
   ],
   "source": [
    "import random\n",
    "import string\n",
    "import csv\n",
    "cursor = conn.cursor()\n",
    "cursor.execute(\"DROP TABLE IF EXISTS Patient;\")\n",
    "cursor.execute(\"DROP TABLE IF EXISTS Doctor;\")\n",
    "cursor.execute(\"CREATE TABLE Patient (PK serial PRIMARY KEY, name VARCHAR(50), ID_Number VARCHAR(50) , Age INT, Site_ID INT);\")\n",
    "cursor.execute(\"CREATE TABLE Doctor (PK serial PRIMARY KEY, UserName VARCHAR(50), name VARCHAR(50), Age INT, ID_Number VARCHAR(50) , Site_ID INT);\")\n",
    "cursor.execute(\"GRANT ALL PRIVILEGES ON Patient TO PUBLIC;\")\n",
    "cursor.execute(\"GRANT ALL PRIVILEGES ON Doctor TO PUBLIC;\")\n",
    "# cursor.execute(\"GRANT ALL PRIVILEGES ON RLS_test TO PUBLIC;\")\n",
    "# cursor.execute(\"ALTER TABLE RLS_test ENABLE ROW LEVEL SECURITY;\")\n",
    "# cursor.execute(\"CREATE POLICY account_managers ON RLS_test USING(user_name=current_user);\")\n",
    "# cursor.execute(\"INSERT INTO Patient (name, ID_Number, Age, Site_ID) VALUES (%s, %s, %s, %s);\", (\"Anthony Moore\", '9788453650', 24, 0))\n",
    "conn.commit()\n",
    "cursor.execute(\"SELECT * FROM Patient;\")\n",
    "cursor.execute(\"SELECT * FROM Doctor;\")\n",
    "print(cursor.fetchall())\n",
    "\n",
    "def generate_unique_id(existing_ids, length=10):\n",
    "    # generate 唯一的 ID_Number\n",
    "    while True:\n",
    "        new_id = ''.join(random.choices(string.digits, k=length))\n",
    "        if new_id not in existing_ids:\n",
    "            existing_ids.add(new_id)\n",
    "            return new_id\n",
    "\n",
    "# 生資料並寫入 patient.CSV 檔案\n",
    "csv_file_path = 'patient.csv'\n",
    "names = [\"Anthony Moore\", \"John Doe\", \"Jane Smith\"]\n",
    "ages = [24, 30, 35, 40, 45]\n",
    "site_ids = [0, 1, 2, 3, 4]\n",
    "num_records = 1000000\n",
    "\n",
    "existing_ids = set()\n",
    "\n",
    "with open(csv_file_path, 'w', newline='') as csvfile:\n",
    "    writer = csv.writer(csvfile)\n",
    "    writer.writerow(['name', 'ID_Number', 'Age', 'Site_ID']) # csv header \n",
    "    for _ in range(num_records):\n",
    "        name = random.choice(names)\n",
    "        age = random.choice(ages)\n",
    "        site_id = random.choice(site_ids)\n",
    "        id_number = generate_unique_id(existing_ids)\n",
    "        writer.writerow([name, id_number, age, site_id])\n",
    "\n",
    "try:\n",
    "    cur = conn.cursor()\n",
    "    # 將 CSV 檔案中的資料載入到資料庫\n",
    "    with open(csv_file_path, 'r') as csvfile:\n",
    "        cur.copy_expert(\"COPY Patient (name, ID_Number, Age, Site_ID) FROM STDIN WITH CSV HEADER\", csvfile)\n",
    "    conn.commit()\n",
    "    print(f\"Successfully inserted {num_records} records into the Patient table using COPY command.\")\n",
    "\n",
    "except psycopg2.Error as e:\n",
    "    print(f\"Error: {e}\")\n",
    "    if conn:\n",
    "        conn.rollback()\n",
    "\n",
    "# 生資料並寫入 doctor.CSV 檔案\n",
    "csv_file_path = 'doctor.csv'\n",
    "user_name = ['andychang']\n",
    "names = [\"Lily Brown\", \"Lily Jones\", \"Joseph Taylor\"]\n",
    "site_ids = [0, 1, 2, 3, 4]\n",
    "first_names = [name.split()[0].lower() for name in names]\n",
    "num_records = 20000\n",
    "\n",
    "usernames = set()\n",
    "\n",
    "# 生成UserName\n",
    "while len(usernames) < num_records:\n",
    "    name = random.choice(first_names)\n",
    "    number = random.randint(100000, 999999)\n",
    "    username = f\"{name}{number}\"\n",
    "    usernames.add(username)\n",
    "\n",
    "# 將結果轉換為列表以便進一步使用\n",
    "usernames_list = list(usernames)\n",
    "\n",
    "with open(csv_file_path, 'w', newline='') as csvfile:\n",
    "    writer = csv.writer(csvfile)\n",
    "    writer.writerow(['UserName', 'name', 'ID_Number', 'Age' , 'Site_ID']) # csv header \n",
    "    for i in range(num_records):\n",
    "        userName = usernames_list[i]\n",
    "        #userName = random.choice(user_name)\n",
    "        name = random.choice(names)\n",
    "        age = random.choice(ages)\n",
    "        #site_id = random.choice(site_ids)\n",
    "        id_number = generate_unique_id(existing_ids)\n",
    "        writer.writerow([userName, name, id_number, age, i])\n",
    "\n",
    "try:\n",
    "    cur = conn.cursor()\n",
    "    # 將 CSV 檔案中的資料載入到資料庫\n",
    "    with open(csv_file_path, 'r') as csvfile:\n",
    "        cur.copy_expert(\"COPY Doctor (UserName, name, ID_Number, Age, Site_ID) FROM STDIN WITH CSV HEADER\", csvfile)\n",
    "    conn.commit()\n",
    "    print(f\"Successfully inserted {num_records} records into the Doctor table using COPY command.\")\n",
    "\n",
    "except psycopg2.Error as e:\n",
    "    print(f\"Error: {e}\")\n",
    "    if conn:\n",
    "        conn.rollback()\n",
    "\n",
    "finally:\n",
    "    if cur:\n",
    "        cur.close()\n",
    "    if conn:\n",
    "        conn.close()"
   ]
  },
  {
   "cell_type": "code",
   "execution_count": null,
   "metadata": {},
   "outputs": [],
   "source": []
  }
 ],
 "metadata": {
  "kernelspec": {
   "display_name": "DBMS-hw5",
   "language": "python",
   "name": "python3"
  },
  "language_info": {
   "codemirror_mode": {
    "name": "ipython",
    "version": 3
   },
   "file_extension": ".py",
   "mimetype": "text/x-python",
   "name": "python",
   "nbconvert_exporter": "python",
   "pygments_lexer": "ipython3",
   "version": "3.8.19"
  }
 },
 "nbformat": 4,
 "nbformat_minor": 2
}
