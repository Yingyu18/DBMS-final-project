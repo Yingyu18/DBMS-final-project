{
 "cells": [
  {
   "cell_type": "markdown",
   "metadata": {},
   "source": [
    "#### 1. Connect to DB"
   ]
  },
  {
   "cell_type": "code",
   "execution_count": 51,
   "metadata": {},
   "outputs": [
    {
     "name": "stdout",
     "output_type": "stream",
     "text": [
      "Connection established\n"
     ]
    }
   ],
   "source": [
    "import psycopg2\n",
    "\n",
    "host = \"140.112.12.188\"\n",
    "dbname = \"dbms_final\"\n",
    "user = \"andychang\"\n",
    "password = \"1234\"\n",
    "#sslmode = \"allow\"\n",
    "\n",
    "#conn_string = \"host='140.112.12.188' user='andychang' dbname='dbms_final' password='1234' port='5432'\"\n",
    "# 以 super user 身份登入\n",
    "conn_string = \"host='140.112.12.188' user='postgres' dbname='dbms_final' password='1234' port='5432'\"\n",
    "conn = psycopg2.connect(conn_string)\n",
    "print(\"Connection established\")"
   ]
  },
  {
   "cell_type": "markdown",
   "metadata": {},
   "source": [
    "\n",
    "##### 2. Create new role 'role1'"
   ]
  },
  {
   "cell_type": "code",
   "execution_count": 53,
   "metadata": {},
   "outputs": [
    {
     "name": "stdout",
     "output_type": "stream",
     "text": [
      "('pg_database_owner',)\n",
      "('pg_read_all_data',)\n",
      "('pg_write_all_data',)\n",
      "('pg_monitor',)\n",
      "('pg_read_all_settings',)\n",
      "('pg_read_all_stats',)\n",
      "('pg_stat_scan_tables',)\n",
      "('pg_read_server_files',)\n",
      "('pg_write_server_files',)\n",
      "('pg_execute_server_program',)\n",
      "('pg_signal_backend',)\n",
      "('pg_checkpoint',)\n",
      "('pg_use_reserved_connections',)\n",
      "('pg_create_subscription',)\n",
      "('postgres',)\n",
      "('andychang',)\n",
      "('role1',)\n"
     ]
    }
   ],
   "source": [
    "cur = conn.cursor()\n",
    "try: \n",
    "    #cur.execute(\"SELECT rolname FROM pg_roles WHERE rolsuper = TRUE;\")\n",
    "    #cur.execute(\"SELECT rolname FROM pg_roles WHERE pg_roles.rolname = CURRENT_USER;\")\n",
    "    cur.execute(\"CREATE ROLE role1;\")\n",
    "    cur.execute(\"SELECT rolname FROM pg_roles;\")\n",
    "\n",
    "except psycopg2.Error as e:\n",
    "    print(f\"Error : {e}\")\n",
    "\n",
    "rows = cur.fetchall()\n",
    "for row in rows:\n",
    "    print(row)\n"
   ]
  },
  {
   "cell_type": "markdown",
   "metadata": {},
   "source": [
    "增加 index 以確保 Qury Optimizer 先執行 user filter 再執行 RLS policy "
   ]
  },
  {
   "cell_type": "code",
   "execution_count": 59,
   "metadata": {},
   "outputs": [
    {
     "name": "stdout",
     "output_type": "stream",
     "text": [
      "('index_user_name', 'CREATE INDEX index_user_name ON public.rls_test USING btree (user_name)')\n",
      "('rls_test_pkey', 'CREATE UNIQUE INDEX rls_test_pkey ON public.rls_test USING btree (id)')\n"
     ]
    }
   ],
   "source": [
    "try:\n",
    "    cur.execute(\"CREATE INDEX index_user_name ON RLS_test (user_name);\")\n",
    "    conn.commit()\n",
    "except psycopg2.Error as e:\n",
    "    print(f\"Error : {e}\")\n",
    "    conn.rollback()"
   ]
  },
  {
   "cell_type": "markdown",
   "metadata": {},
   "source": [
    "##### 3. Create Patient Table and Insert Data "
   ]
  },
  {
   "cell_type": "code",
   "execution_count": null,
   "metadata": {},
   "outputs": [],
   "source": []
  }
 ],
 "metadata": {
  "kernelspec": {
   "display_name": "DBMS-hw5",
   "language": "python",
   "name": "python3"
  },
  "language_info": {
   "codemirror_mode": {
    "name": "ipython",
    "version": 3
   },
   "file_extension": ".py",
   "mimetype": "text/x-python",
   "name": "python",
   "nbconvert_exporter": "python",
   "pygments_lexer": "ipython3",
   "version": "3.9.13"
  }
 },
 "nbformat": 4,
 "nbformat_minor": 2
}
