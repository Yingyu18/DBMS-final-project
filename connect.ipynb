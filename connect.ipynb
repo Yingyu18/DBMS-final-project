{
 "cells": [
  {
   "cell_type": "markdown",
   "metadata": {},
   "source": [
    "#### 1. Connect to DB"
   ]
  },
  {
   "cell_type": "code",
   "execution_count": 77,
   "metadata": {},
   "outputs": [
    {
     "name": "stdout",
     "output_type": "stream",
     "text": [
      "Connection established\n"
     ]
    }
   ],
   "source": [
    "import psycopg2\n",
    "\n",
    "host = \"140.112.12.188\"\n",
    "dbname = \"dbms_final\"\n",
    "user = \"andychang\"\n",
    "password = \"1234\"\n",
    "#sslmode = \"allow\"\n",
    "\n",
    "#conn_string = \"host='140.112.12.188' user='andychang' dbname='dbms_final' password='1234' port='5432'\"\n",
    "# 以 super user 身份登入\n",
    "conn_string = \"host='140.112.12.188' user='postgres' dbname='dbms_final' password='1234' port='5432'\"\n",
    "conn = psycopg2.connect(conn_string)\n",
    "print(\"Connection established\")"
   ]
  },
  {
   "cell_type": "markdown",
   "metadata": {},
   "source": [
    "\n",
    "##### 2. Create new role 'role1'"
   ]
  },
  {
   "cell_type": "code",
   "execution_count": 53,
   "metadata": {},
   "outputs": [
    {
     "name": "stdout",
     "output_type": "stream",
     "text": [
      "('pg_database_owner',)\n",
      "('pg_read_all_data',)\n",
      "('pg_write_all_data',)\n",
      "('pg_monitor',)\n",
      "('pg_read_all_settings',)\n",
      "('pg_read_all_stats',)\n",
      "('pg_stat_scan_tables',)\n",
      "('pg_read_server_files',)\n",
      "('pg_write_server_files',)\n",
      "('pg_execute_server_program',)\n",
      "('pg_signal_backend',)\n",
      "('pg_checkpoint',)\n",
      "('pg_use_reserved_connections',)\n",
      "('pg_create_subscription',)\n",
      "('postgres',)\n",
      "('andychang',)\n",
      "('role1',)\n"
     ]
    }
   ],
   "source": [
    "cur = conn.cursor()\n",
    "try: \n",
    "    cur.execute(\"CREATE ROLE role1;\")\n",
    "    cur.execute(\"SELECT rolname FROM pg_roles;\")\n",
    "\n",
    "\n",
    "except psycopg2.Error as e:\n",
    "    print(f\"Error : {e}\")\n",
    "cur.close()"
   ]
  },
  {
   "cell_type": "markdown",
   "metadata": {},
   "source": [
    "增加 index 以確保 Qury Optimizer 先執行 user filter 再執行 RLS policy "
   ]
  },
  {
   "cell_type": "code",
   "execution_count": 59,
   "metadata": {},
   "outputs": [
    {
     "name": "stdout",
     "output_type": "stream",
     "text": [
      "('index_user_name', 'CREATE INDEX index_user_name ON public.rls_test USING btree (user_name)')\n",
      "('rls_test_pkey', 'CREATE UNIQUE INDEX rls_test_pkey ON public.rls_test USING btree (id)')\n"
     ]
    }
   ],
   "source": [
    "try:\n",
    "    cur.execute(\"CREATE INDEX index_user_name ON RLS_test (user_name);\")\n",
    "    conn.commit()\n",
    "except psycopg2.Error as e:\n",
    "    print(f\"Error : {e}\")\n",
    "    conn.rollback()"
   ]
  },
  {
   "cell_type": "markdown",
   "metadata": {},
   "source": [
    "##### 3. Create Patient Table and Insert Data "
   ]
  },
  {
   "cell_type": "code",
   "execution_count": 78,
   "metadata": {},
   "outputs": [
    {
     "name": "stdout",
     "output_type": "stream",
     "text": [
      "[]\n",
      "Successfully inserted 10000 records into the Patient table using COPY command.\n"
     ]
    }
   ],
   "source": [
    "import random\n",
    "import string\n",
    "import csv\n",
    "cursor = conn.cursor()\n",
    "cursor.execute(\"DROP TABLE IF EXISTS Patient;\")\n",
    "cursor.execute(\"CREATE TABLE Patient (PK serial PRIMARY KEY, name VARCHAR(50), ID_Number VARCHAR(50) , Age INT, Site_ID INT);\")\n",
    "# cursor.execute(\"GRANT ALL PRIVILEGES ON RLS_test TO PUBLIC;\")\n",
    "# cursor.execute(\"ALTER TABLE RLS_test ENABLE ROW LEVEL SECURITY;\")\n",
    "# cursor.execute(\"CREATE POLICY account_managers ON RLS_test USING(user_name=current_user);\")\n",
    "# cursor.execute(\"INSERT INTO Patient (name, ID_Number, Age, Site_ID) VALUES (%s, %s, %s, %s);\", (\"Anthony Moore\", '9788453650', 24, 0))\n",
    "conn.commit()\n",
    "cursor.execute(\"SELECT * FROM Patient;\")\n",
    "print(cursor.fetchall())\n",
    "\n",
    "def generate_unique_id(existing_ids, length=10):\n",
    "    # generate 唯一的 ID_Number\n",
    "    while True:\n",
    "        new_id = ''.join(random.choices(string.digits, k=length))\n",
    "        if new_id not in existing_ids:\n",
    "            existing_ids.add(new_id)\n",
    "            return new_id\n",
    "\n",
    "# 生資料並寫入 CSV 檔案\n",
    "csv_file_path = 'data.csv'\n",
    "names = [\"Anthony Moore\", \"John Doe\", \"Jane Smith\"]\n",
    "ages = [24, 30, 35, 40, 45]\n",
    "site_ids = [0, 1]\n",
    "num_records = 10000\n",
    "\n",
    "existing_ids = set()\n",
    "\n",
    "with open(csv_file_path, 'w', newline='') as csvfile:\n",
    "    writer = csv.writer(csvfile)\n",
    "    writer.writerow(['name', 'ID_Number', 'Age', 'Site_ID']) # csv header \n",
    "    for _ in range(num_records):\n",
    "        name = random.choice(names)\n",
    "        age = random.choice(ages)\n",
    "        site_id = random.choice(site_ids)\n",
    "        id_number = generate_unique_id(existing_ids)\n",
    "        writer.writerow([name, id_number, age, site_id])\n",
    "\n",
    "try:\n",
    "    cur = conn.cursor()\n",
    "    # 將 CSV 檔案中的資料載入到資料庫\n",
    "    with open(csv_file_path, 'r') as csvfile:\n",
    "        cur.copy_expert(\"COPY Patient (name, ID_Number, Age, Site_ID) FROM STDIN WITH CSV HEADER\", csvfile)\n",
    "    conn.commit()\n",
    "    print(f\"Successfully inserted {num_records} records into the Patient table using COPY command.\")\n",
    "\n",
    "except psycopg2.Error as e:\n",
    "    print(f\"Error: {e}\")\n",
    "    if conn:\n",
    "        conn.rollback()\n",
    "\n",
    "finally:\n",
    "    if cur:\n",
    "        cur.close()\n",
    "    if conn:\n",
    "        conn.close()"
   ]
  }
 ],
 "metadata": {
  "kernelspec": {
   "display_name": "DBMS-hw5",
   "language": "python",
   "name": "python3"
  },
  "language_info": {
   "codemirror_mode": {
    "name": "ipython",
    "version": 3
   },
   "file_extension": ".py",
   "mimetype": "text/x-python",
   "name": "python",
   "nbconvert_exporter": "python",
   "pygments_lexer": "ipython3",
   "version": "3.9.13"
  }
 },
 "nbformat": 4,
 "nbformat_minor": 2
}
