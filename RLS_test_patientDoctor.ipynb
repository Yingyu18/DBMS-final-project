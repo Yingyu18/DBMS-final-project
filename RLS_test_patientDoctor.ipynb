{
 "cells": [
  {
   "cell_type": "code",
   "execution_count": 9,
   "id": "9848c3f1-e0e0-4647-98c7-cad6b20febb2",
   "metadata": {},
   "outputs": [
    {
     "name": "stdout",
     "output_type": "stream",
     "text": [
      "Connection established\n"
     ]
    }
   ],
   "source": [
    "import psycopg2\n",
    "import time\n",
    "import random\n",
    "\n",
    "# root id: postgres, password: 1234\n",
    "# DB dbms_final owner: postgres (only user can create table) \n",
    "conn_string = \"host='140.112.12.188' user='postgres' dbname='dbms_final' password='1234' port='5432'\"\n",
    "conn = psycopg2.connect(conn_string)\n",
    "print(\"Connection established\")"
   ]
  },
  {
   "cell_type": "code",
   "execution_count": 10,
   "id": "5c0f223c-e450-467c-be71-e97e126e5588",
   "metadata": {},
   "outputs": [],
   "source": [
    "import csv\n",
    "csv_file = 'patient.csv'\n",
    "patient_site_map = {}\n",
    "\n",
    "with open(csv_file, 'r') as file:\n",
    "    reader = csv.DictReader(file)\n",
    "    for row in reader:\n",
    "        id_number = row['ID_Number']\n",
    "        site_id = row['Site_ID']\n",
    "        patient_site_map[id_number] = site_id"
   ]
  },
  {
   "cell_type": "code",
   "execution_count": null,
   "id": "82263b20-afe8-46cd-8eba-cd181dcffc4d",
   "metadata": {},
   "outputs": [
    {
     "name": "stdout",
     "output_type": "stream",
     "text": [
      "The 0st test.\n"
     ]
    }
   ],
   "source": [
    "cursor = conn.cursor()\n",
    "\n",
    "def query_patient(patient_id, doctor_site_id):\n",
    "    cursor.execute(f\"SET app.current_doctor_site_id = '{doctor_site_id}';\")\n",
    "    start_time = time.time()\n",
    "    cursor.execute(\"SELECT * FROM Patient WHERE ID_Number = %s AND Site_ID = %s\", (patient_id, doctor_site_id))\n",
    "    result = cursor.fetchall()\n",
    "    end_time = time.time()\n",
    "    return end_time - start_time, result\n",
    "\n",
    "cursor.execute(\"DROP POLICY patient_policy ON Patient;\")\n",
    "\n",
    "cursor.execute(\"ALTER TABLE Patient ENABLE ROW LEVEL SECURITY;\")\n",
    "\n",
    "cursor.execute(\"\"\"\n",
    "    CREATE POLICY patient_policy ON Patient\n",
    "    USING (EXISTS (\n",
    "        SELECT 1 FROM Doctor \n",
    "        WHERE Doctor.Site_ID = Patient.Site_ID \n",
    "        AND Doctor.ID_Number = current_setting('app.current_doctor_id')\n",
    "    ));\n",
    "\"\"\")\n",
    "\n",
    "query_times_same_site = []\n",
    "query_times_diff_site = []\n",
    "\n",
    "for _ in range(100): \n",
    "    print(f\"The {_}st test.\")\n",
    "    for patient_id, patient_site_id in patient_site_map.items():\n",
    "        doctor_site_id = random.choice(range(5))\n",
    "        query_time, _ = query_patient(patient_id, doctor_site_id)\n",
    "        if doctor_site_id == patient_site_id:\n",
    "            query_times_same_site.append(query_time)\n",
    "        else:\n",
    "            query_times_diff_site.append(query_time)\n",
    "\n",
    "avg_query_time_same_site = sum(query_times_same_site) / len(query_times_same_site)\n",
    "avg_query_time_diff_site = sum(query_times_diff_site) / len(query_times_diff_site)\n",
    "\n",
    "print(f\"對於Site_ID和所欲訪問之Patient之Site_ID相同的doctor來說，平均query時間為: {avg_query_time_same_site} 秒\")\n",
    "print(f\"對於Site_ID和所欲訪問之Patient之Site_ID不同的doctor來說，平均query時間為: {avg_query_time_diff_site} 秒\")\n",
    "\n",
    "cursor.close()\n",
    "conn.close()"
   ]
  },
  {
   "cell_type": "code",
   "execution_count": null,
   "id": "07c6cad4-7de9-4e1e-8fb4-7f8bbab6bea8",
   "metadata": {},
   "outputs": [],
   "source": []
  }
 ],
 "metadata": {
  "kernelspec": {
   "display_name": "Python 3 (ipykernel)",
   "language": "python",
   "name": "python3"
  },
  "language_info": {
   "codemirror_mode": {
    "name": "ipython",
    "version": 3
   },
   "file_extension": ".py",
   "mimetype": "text/x-python",
   "name": "python",
   "nbconvert_exporter": "python",
   "pygments_lexer": "ipython3",
   "version": "3.8.16"
  }
 },
 "nbformat": 4,
 "nbformat_minor": 5
}
