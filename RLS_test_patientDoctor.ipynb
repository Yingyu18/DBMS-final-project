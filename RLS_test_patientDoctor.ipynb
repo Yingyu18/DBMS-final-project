{
 "cells": [
  {
   "cell_type": "code",
   "execution_count": 1,
   "id": "9848c3f1-e0e0-4647-98c7-cad6b20febb2",
   "metadata": {},
   "outputs": [
    {
     "name": "stdout",
     "output_type": "stream",
     "text": [
      "Connection established\n"
     ]
    }
   ],
   "source": [
    "import psycopg2\n",
    "import time\n",
    "import random\n",
    "\n",
    "# root id: postgres, password: 1234\n",
    "# DB dbms_final owner: postgres (only user can create table) \n",
    "conn_string = \"host='140.112.12.188' user='postgres' dbname='dbms_final' password='1234' port='5432'\"\n",
    "conn = psycopg2.connect(conn_string)\n",
    "print(\"Connection established\")"
   ]
  },
  {
   "cell_type": "code",
   "execution_count": 2,
   "id": "5c0f223c-e450-467c-be71-e97e126e5588",
   "metadata": {},
   "outputs": [
    {
     "ename": "FileNotFoundError",
     "evalue": "[Errno 2] No such file or directory: 'patient.csv'",
     "output_type": "error",
     "traceback": [
      "\u001b[1;31m---------------------------------------------------------------------------\u001b[0m",
      "\u001b[1;31mFileNotFoundError\u001b[0m                         Traceback (most recent call last)",
      "Cell \u001b[1;32mIn[2], line 5\u001b[0m\n\u001b[0;32m      2\u001b[0m csv_file \u001b[38;5;241m=\u001b[39m \u001b[38;5;124m'\u001b[39m\u001b[38;5;124mpatient.csv\u001b[39m\u001b[38;5;124m'\u001b[39m\n\u001b[0;32m      3\u001b[0m patient_site_map \u001b[38;5;241m=\u001b[39m {}\n\u001b[1;32m----> 5\u001b[0m \u001b[38;5;28;01mwith\u001b[39;00m \u001b[38;5;28;43mopen\u001b[39;49m\u001b[43m(\u001b[49m\u001b[43mcsv_file\u001b[49m\u001b[43m,\u001b[49m\u001b[43m \u001b[49m\u001b[38;5;124;43m'\u001b[39;49m\u001b[38;5;124;43mr\u001b[39;49m\u001b[38;5;124;43m'\u001b[39;49m\u001b[43m)\u001b[49m \u001b[38;5;28;01mas\u001b[39;00m file:\n\u001b[0;32m      6\u001b[0m     reader \u001b[38;5;241m=\u001b[39m csv\u001b[38;5;241m.\u001b[39mDictReader(file)\n\u001b[0;32m      7\u001b[0m     \u001b[38;5;28;01mfor\u001b[39;00m row \u001b[38;5;129;01min\u001b[39;00m reader:\n",
      "File \u001b[1;32mc:\\Users\\andym\\anaconda3\\envs\\DBMS-hw5\\lib\\site-packages\\IPython\\core\\interactiveshell.py:284\u001b[0m, in \u001b[0;36m_modified_open\u001b[1;34m(file, *args, **kwargs)\u001b[0m\n\u001b[0;32m    277\u001b[0m \u001b[38;5;28;01mif\u001b[39;00m file \u001b[38;5;129;01min\u001b[39;00m {\u001b[38;5;241m0\u001b[39m, \u001b[38;5;241m1\u001b[39m, \u001b[38;5;241m2\u001b[39m}:\n\u001b[0;32m    278\u001b[0m     \u001b[38;5;28;01mraise\u001b[39;00m \u001b[38;5;167;01mValueError\u001b[39;00m(\n\u001b[0;32m    279\u001b[0m         \u001b[38;5;124mf\u001b[39m\u001b[38;5;124m\"\u001b[39m\u001b[38;5;124mIPython won\u001b[39m\u001b[38;5;124m'\u001b[39m\u001b[38;5;124mt let you open fd=\u001b[39m\u001b[38;5;132;01m{\u001b[39;00mfile\u001b[38;5;132;01m}\u001b[39;00m\u001b[38;5;124m by default \u001b[39m\u001b[38;5;124m\"\u001b[39m\n\u001b[0;32m    280\u001b[0m         \u001b[38;5;124m\"\u001b[39m\u001b[38;5;124mas it is likely to crash IPython. If you know what you are doing, \u001b[39m\u001b[38;5;124m\"\u001b[39m\n\u001b[0;32m    281\u001b[0m         \u001b[38;5;124m\"\u001b[39m\u001b[38;5;124myou can use builtins\u001b[39m\u001b[38;5;124m'\u001b[39m\u001b[38;5;124m open.\u001b[39m\u001b[38;5;124m\"\u001b[39m\n\u001b[0;32m    282\u001b[0m     )\n\u001b[1;32m--> 284\u001b[0m \u001b[38;5;28;01mreturn\u001b[39;00m \u001b[43mio_open\u001b[49m\u001b[43m(\u001b[49m\u001b[43mfile\u001b[49m\u001b[43m,\u001b[49m\u001b[43m \u001b[49m\u001b[38;5;241;43m*\u001b[39;49m\u001b[43margs\u001b[49m\u001b[43m,\u001b[49m\u001b[43m \u001b[49m\u001b[38;5;241;43m*\u001b[39;49m\u001b[38;5;241;43m*\u001b[39;49m\u001b[43mkwargs\u001b[49m\u001b[43m)\u001b[49m\n",
      "\u001b[1;31mFileNotFoundError\u001b[0m: [Errno 2] No such file or directory: 'patient.csv'"
     ]
    }
   ],
   "source": [
    "import csv\n",
    "csv_file = 'patient.csv'\n",
    "patient_site_map = {}\n",
    "\n",
    "with open(csv_file, 'r') as file:\n",
    "    reader = csv.DictReader(file)\n",
    "    for row in reader:\n",
    "        id_number = row['ID_Number']\n",
    "        site_id = row['Site_ID']\n",
    "        patient_site_map[id_number] = site_id"
   ]
  },
  {
   "cell_type": "code",
   "execution_count": null,
   "id": "82263b20-afe8-46cd-8eba-cd181dcffc4d",
   "metadata": {},
   "outputs": [
    {
     "name": "stdout",
     "output_type": "stream",
     "text": [
      "The 0st test.\n"
     ]
    }
   ],
   "source": [
    "cursor = conn.cursor()\n",
    "\n",
    "def query_patient(patient_id, doctor_site_id):\n",
    "    cursor.execute(f\"SET app.current_doctor_site_id = '{doctor_site_id}';\")\n",
    "    start_time = time.time()\n",
    "    cursor.execute(\"SELECT * FROM Patient WHERE ID_Number = %s AND Site_ID = %s\", (patient_id, doctor_site_id))\n",
    "    result = cursor.fetchall()\n",
    "    end_time = time.time()\n",
    "    return end_time - start_time, result\n",
    "\n",
    "cursor.execute(\"DROP POLICY patient_policy ON Patient;\")\n",
    "\n",
    "cursor.execute(\"ALTER TABLE Patient ENABLE ROW LEVEL SECURITY;\")\n",
    "\n",
    "cursor.execute(\"\"\"\n",
    "    CREATE POLICY patient_policy ON Patient\n",
    "    USING (EXISTS (\n",
    "        SELECT 1 FROM Doctor \n",
    "        WHERE Doctor.Site_ID = Patient.Site_ID \n",
    "        AND Doctor.ID_Number = current_setting('app.current_doctor_id')\n",
    "    ));\n",
    "\"\"\")\n",
    "\n",
    "query_times_same_site = []\n",
    "query_times_diff_site = []\n",
    "\n",
    "for _ in range(100): \n",
    "    print(f\"The {_}st test.\")\n",
    "    for patient_id, patient_site_id in patient_site_map.items():\n",
    "        doctor_site_id = random.choice(range(5))\n",
    "        query_time, _ = query_patient(patient_id, doctor_site_id)\n",
    "        if doctor_site_id == patient_site_id:\n",
    "            query_times_same_site.append(query_time)\n",
    "        else:\n",
    "            query_times_diff_site.append(query_time)\n",
    "\n",
    "avg_query_time_same_site = sum(query_times_same_site) / len(query_times_same_site)\n",
    "avg_query_time_diff_site = sum(query_times_diff_site) / len(query_times_diff_site)\n",
    "\n",
    "print(f\"對於Site_ID和所欲訪問之Patient之Site_ID相同的doctor來說，平均query時間為: {avg_query_time_same_site} 秒\")\n",
    "print(f\"對於Site_ID和所欲訪問之Patient之Site_ID不同的doctor來說，平均query時間為: {avg_query_time_diff_site} 秒\")\n",
    "\n",
    "cursor.close()\n",
    "conn.close()"
   ]
  },
  {
   "cell_type": "code",
   "execution_count": 1,
   "id": "07c6cad4-7de9-4e1e-8fb4-7f8bbab6bea8",
   "metadata": {},
   "outputs": [
    {
     "name": "stdout",
     "output_type": "stream",
     "text": [
      "Connection established\n"
     ]
    }
   ],
   "source": [
    "# WeiChe\n",
    "import psycopg2\n",
    "\n",
    "# Database connection parameters\n",
    "conn_string = \"host='140.112.12.188' user='postgres' dbname='dbms_final' password='1234' port='5432'\"\n",
    "\n",
    "# Connect to the database\n",
    "conn = psycopg2.connect(conn_string)\n",
    "print(\"Connection established\")\n",
    "\n",
    "# Create a cursor object\n",
    "cursor = conn.cursor()\n",
    "\n",
    "# Define the SQL for creating the function with logging\n",
    "create_function_sql = \"\"\"\n",
    "CREATE FUNCTION site_policy(row_site int8, curr_user_id int8)\n",
    "RETURNS bool\n",
    "AS $$\n",
    "BEGIN\n",
    "    RETURN (\n",
    "        (SELECT site_id\n",
    "        FROM doctor\n",
    "        WHERE id_number = curr_user_id) \n",
    "        = row_site\n",
    "        );\n",
    "\n",
    "END;\n",
    "$$\n",
    "LANGUAGE plpgsql;\n",
    "\"\"\"\n",
    "# Define the SQL for enabling row-level security and creating the policy\n",
    "enable_rls_sql = \"\"\"\n",
    "ALTER TABLE patient\n",
    "ENABLE ROW LEVEL SECURITY;\n",
    "\n",
    "CREATE POLICY doctor_read\n",
    "ON patient FOR SELECT\n",
    "USING (site_policy(site_id, 'a'));\n",
    "\"\"\"\n",
    "\n",
    "# Execute the SQL commands\n",
    "try:\n",
    "    # Drop policy if it exists\n",
    "    cursor.execute(\"DROP POLICY IF EXISTS doctor_read ON patient;\")\n",
    "    print(\"Good\")\n",
    "    cursor.execute(\"DROP FUNCTION IF EXISTS site_policy(int8, int8);\")\n",
    "    print(\"Good\")\n",
    "    # Create the function\n",
    "    cursor.execute(create_function_sql)\n",
    "    print(\"Function created successfully\")\n",
    "    \"\"\"\n",
    "    # Enable row-level security and create the policy\n",
    "    cursor.execute(enable_rls_sql)\n",
    "    conn.commit()\n",
    "    print(\"Row-level security enabled and policy created successfully\")\n",
    "\n",
    "    cursor.execute(\"SELECT relrowsecurity, relforcerowsecurity FROM pg_catalog.pg_class WHERE relname = 'patient';\")\n",
    "    print(cursor.fetchall())\n",
    "    cursor.execute(\"SELECT * FROM pg_policies WHERE policyname = 'doctor_read' AND tablename = 'patient';\")\n",
    "    print(cursor.fetchall())\n",
    "    \n",
    "    # Set application user ID using custom configuration        \n",
    "    cursor.execute(\"SELECT set_config('app.current_user_id', '5', false);\")\n",
    "    \n",
    "    # Execute the select query\n",
    "    cursor.execute(\"SELECT * FROM patient WHERE ID_Number = '9666427225';\")\n",
    "    results = cursor.fetchall()\n",
    "    print(\"Query executed successfully, results:\")\n",
    "    print(results)\n",
    "    \"\"\"\n",
    "except Exception as e:\n",
    "    conn.rollback()\n",
    "    print(f\"An error occurred: {e}\")\n",
    "\n",
    "\n",
    "# Close the cursor and connection\n",
    "cursor.close()\n",
    "conn.close()"
   ]
  },
  {
   "cell_type": "code",
   "execution_count": null,
   "id": "1f929be7",
   "metadata": {},
   "outputs": [],
   "source": []
  }
 ],
 "metadata": {
  "kernelspec": {
   "display_name": "Python 3 (ipykernel)",
   "language": "python",
   "name": "python3"
  },
  "language_info": {
   "codemirror_mode": {
    "name": "ipython",
    "version": 3
   },
   "file_extension": ".py",
   "mimetype": "text/x-python",
   "name": "python",
   "nbconvert_exporter": "python",
   "pygments_lexer": "ipython3",
   "version": "3.8.19"
  }
 },
 "nbformat": 4,
 "nbformat_minor": 5
}
