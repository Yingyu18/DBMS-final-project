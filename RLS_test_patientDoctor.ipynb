{
 "cells": [
  {
   "cell_type": "code",
   "execution_count": 1,
   "id": "9848c3f1-e0e0-4647-98c7-cad6b20febb2",
   "metadata": {},
   "outputs": [
    {
     "name": "stdout",
     "output_type": "stream",
     "text": [
      "Connection established\n"
     ]
    }
   ],
   "source": [
    "import psycopg2\n",
    "import time\n",
    "import random\n",
    "\n",
    "# root id: postgres, password: 1234\n",
    "# DB dbms_final owner: postgres (only user can create table) \n",
    "conn_string = \"host='140.112.12.188' user='postgres' dbname='dbms_final' password='1234' port='5432'\"\n",
    "conn = psycopg2.connect(conn_string)\n",
    "print(\"Connection established\")"
   ]
  },
  {
   "cell_type": "code",
   "execution_count": 2,
   "id": "5c0f223c-e450-467c-be71-e97e126e5588",
   "metadata": {},
   "outputs": [],
   "source": [
    "import csv\n",
    "csv_file = 'patient.csv'\n",
    "patient_site_map = {}\n",
    "\n",
    "with open(csv_file, 'r') as file:\n",
    "    reader = csv.DictReader(file)\n",
    "    for row in reader:\n",
    "        id_number = row['ID_Number']\n",
    "        site_id = row['Site_ID']\n",
    "        patient_site_map[id_number] = site_id"
   ]
  },
  {
   "cell_type": "code",
   "execution_count": 3,
   "id": "82263b20-afe8-46cd-8eba-cd181dcffc4d",
   "metadata": {},
   "outputs": [
    {
<<<<<<< HEAD
     "name": "stdout",
     "output_type": "stream",
     "text": [
      "Locks: []\n",
      "Start testing.\n"
=======
     "ename": "UndefinedObject",
     "evalue": "policy \"patient_policy\" for table \"patient\" does not exist\n",
     "output_type": "error",
     "traceback": [
      "\u001b[1;31m---------------------------------------------------------------------------\u001b[0m",
      "\u001b[1;31mUndefinedObject\u001b[0m                           Traceback (most recent call last)",
      "Cell \u001b[1;32mIn[3], line 11\u001b[0m\n\u001b[0;32m      8\u001b[0m     end_time \u001b[38;5;241m=\u001b[39m time\u001b[38;5;241m.\u001b[39mtime()\n\u001b[0;32m      9\u001b[0m     \u001b[38;5;28;01mreturn\u001b[39;00m end_time \u001b[38;5;241m-\u001b[39m start_time, result\n\u001b[1;32m---> 11\u001b[0m \u001b[43mcursor\u001b[49m\u001b[38;5;241;43m.\u001b[39;49m\u001b[43mexecute\u001b[49m\u001b[43m(\u001b[49m\u001b[38;5;124;43m\"\u001b[39;49m\u001b[38;5;124;43mDROP POLICY patient_policy ON Patient;\u001b[39;49m\u001b[38;5;124;43m\"\u001b[39;49m\u001b[43m)\u001b[49m\n\u001b[0;32m     13\u001b[0m cursor\u001b[38;5;241m.\u001b[39mexecute(\u001b[38;5;124m\"\u001b[39m\u001b[38;5;124mALTER TABLE Patient ENABLE ROW LEVEL SECURITY;\u001b[39m\u001b[38;5;124m\"\u001b[39m)\n\u001b[0;32m     15\u001b[0m cursor\u001b[38;5;241m.\u001b[39mexecute(\u001b[38;5;124m\"\"\"\u001b[39m\n\u001b[0;32m     16\u001b[0m \u001b[38;5;124m    CREATE POLICY patient_policy ON Patient\u001b[39m\n\u001b[0;32m     17\u001b[0m \u001b[38;5;124m    USING (EXISTS (\u001b[39m\n\u001b[1;32m   (...)\u001b[0m\n\u001b[0;32m     21\u001b[0m \u001b[38;5;124m    ));\u001b[39m\n\u001b[0;32m     22\u001b[0m \u001b[38;5;124m\"\"\"\u001b[39m)\n",
      "\u001b[1;31mUndefinedObject\u001b[0m: policy \"patient_policy\" for table \"patient\" does not exist\n"
>>>>>>> 95380f8461cce0770b1cab9b7ebf722c931e85e7
     ]
    }
   ],
   "source": [
    "cursor = conn.cursor()\n",
    "\n",
    "def query_patient(patient_id, doctor_site_id):\n",
    "    cursor.execute(f\"SET app.current_doctor_site_id = '{doctor_site_id}';\")\n",
    "    start_time = time.time()\n",
    "    cursor.execute(\"SELECT * FROM Patient WHERE ID_Number = %s AND Site_ID = %s\", (patient_id, doctor_site_id))\n",
    "    result = cursor.fetchall()\n",
    "    end_time = time.time()\n",
    "    return end_time - start_time, result\n",
    "\n",
    "try: \n",
    "    print(f\"Start testing.\")\n",
    "    #cursor.execute(\"DROP POLICY patient_policy ON Patient;\")\n",
    "    #cursor.execute(\"GRANT ALL PRIVILEGES ON Patient TO PUBLIC;\")\n",
    "    #cursor.execute(\"ALTER TABLE Patient ENABLE ROW LEVEL SECURITY;\")\n",
    "    # cursor.execute(\"\"\"\n",
    "    #     CREATE POLICY patient_policy ON Patient\n",
    "    #     USING (EXISTS (\n",
    "    #         SELECT 1 FROM Doctor \n",
    "    #         WHERE Doctor.Site_ID = Patient.Site_ID \n",
    "    #         AND Doctor.ID_Number = current_setting('app.current_doctor_id')\n",
    "    #     ));\n",
    "    # \"\"\")\n",
    "\n",
    "    query_times_same_site = []\n",
    "    query_times_diff_site = []\n",
    "\n",
    "    for _ in range(100): \n",
    "        print(f\"The {_}st test.\")\n",
    "        for patient_id, patient_site_id in patient_site_map.items():\n",
    "            doctor_site_id = random.choice(range(5))\n",
    "            query_time, _ = query_patient(patient_id, doctor_site_id)\n",
    "            if doctor_site_id == patient_site_id:\n",
    "                query_times_same_site.append(query_time)\n",
    "            else:\n",
    "                query_times_diff_site.append(query_time)\n",
    "except psycopg2.Error as e:\n",
    "    print(f\"Error: {e}\")\n",
    "    if conn:\n",
    "        conn.rollback()\n",
    "\n",
    "avg_query_time_same_site = sum(query_times_same_site) / len(query_times_same_site)\n",
    "avg_query_time_diff_site = sum(query_times_diff_site) / len(query_times_diff_site)\n",
    "\n",
    "print(f\"對於Site_ID和所欲訪問之Patient之Site_ID相同的doctor來說，平均query時間為: {avg_query_time_same_site} 秒\")\n",
    "print(f\"對於Site_ID和所欲訪問之Patient之Site_ID不同的doctor來說，平均query時間為: {avg_query_time_diff_site} 秒\")\n",
    "\n",
    "cursor.close()\n",
    "conn.close()"
   ]
  }
 ],
 "metadata": {
  "kernelspec": {
   "display_name": "Python 3 (ipykernel)",
   "language": "python",
   "name": "python3"
  },
  "language_info": {
   "codemirror_mode": {
    "name": "ipython",
    "version": 3
   },
   "file_extension": ".py",
   "mimetype": "text/x-python",
   "name": "python",
   "nbconvert_exporter": "python",
   "pygments_lexer": "ipython3",
<<<<<<< HEAD
   "version": "3.9.13"
=======
   "version": "3.8.19"
>>>>>>> 95380f8461cce0770b1cab9b7ebf722c931e85e7
  }
 },
 "nbformat": 4,
 "nbformat_minor": 5
}
